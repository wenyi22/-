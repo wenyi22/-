{
  "nbformat": 4,
  "nbformat_minor": 0,
  "metadata": {
    "colab": {
      "provenance": [],
      "gpuType": "T4",
      "mount_file_id": "1E5Sw_Au1TczPlGlCWpi2xZMZuHEvsYee",
      "authorship_tag": "ABX9TyOpSlePGfKiNhUJ3ALY3bOg",
      "include_colab_link": true
    },
    "kernelspec": {
      "name": "python3",
      "display_name": "Python 3"
    },
    "language_info": {
      "name": "python"
    },
    "accelerator": "GPU"
  },
  "cells": [
    {
      "cell_type": "markdown",
      "metadata": {
        "id": "view-in-github",
        "colab_type": "text"
      },
      "source": [
        "<a href=\"https://colab.research.google.com/github/wenyi22/data-processing/blob/main/%E9%80%A2%E7%94%B2%E6%B7%B1%E5%BA%A6%E5%AD%B8%E7%BF%92%E7%AC%AC%E5%85%AD%E5%A0%82_CNN%E8%87%AA%E8%A8%82%E5%9C%96%E7%89%87.ipynb\" target=\"_parent\"><img src=\"https://colab.research.google.com/assets/colab-badge.svg\" alt=\"Open In Colab\"/></a>"
      ]
    },
    {
      "cell_type": "code",
      "execution_count": null,
      "metadata": {
        "id": "cAjJloqF1xU7"
      },
      "outputs": [],
      "source": [
        "import numpy as np\n",
        "import cv2\n",
        "import matplotlib.pyplot as plt\n",
        "import tensorflow as tf\n",
        "import os\n",
        "from tensorflow.keras.models import Sequential\n",
        "from tensorflow.keras.layers import Dense,Flatten,Dropout,Activation,Conv2D,MaxPooling2D\n",
        "from keras.utils import np_utils"
      ]
    },
    {
      "cell_type": "code",
      "source": [
        "cucumber_dir = '/content/drive/MyDrive/DL_FCU/fruit/train/小黃瓜'\n",
        "mangosteen_dir = '/content/drive/MyDrive/DL_FCU/fruit/train/山竹'"
      ],
      "metadata": {
        "id": "Y21l332Z16sp"
      },
      "execution_count": null,
      "outputs": []
    },
    {
      "cell_type": "code",
      "source": [],
      "metadata": {
        "id": "rBfY_iij6iYU"
      },
      "execution_count": null,
      "outputs": []
    }
  ]
}