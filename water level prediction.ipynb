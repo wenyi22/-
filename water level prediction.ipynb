{
 "cells": [
  {
   "cell_type": "code",
   "execution_count": 1,
   "metadata": {},
   "outputs": [
    {
     "name": "stdout",
     "output_type": "stream",
     "text": [
      "      Station No        Date   Time  1510H084 Water Level  \\\n",
      "0       1510H084    2015/1/1  00:00                146.20   \n",
      "1       1510H084    2015/1/1  01:00                146.18   \n",
      "2       1510H084    2015/1/1  02:00                146.22   \n",
      "3       1510H084    2015/1/1  03:00                146.24   \n",
      "4       1510H084    2015/1/1  04:00                146.25   \n",
      "...          ...         ...    ...                   ...   \n",
      "70123   1510H084  2022/12/31  19:00                143.63   \n",
      "70124   1510H084  2022/12/31  20:00                143.63   \n",
      "70125   1510H084  2022/12/31  21:00                143.63   \n",
      "70126   1510H084  2022/12/31  22:00                143.64   \n",
      "70127   1510H084  2022/12/31  23:00                143.63   \n",
      "\n",
      "       1510H076 Water Level  1510H071 Water Level  1510H057 Water Level  \n",
      "0                      4.41                 20.45                 89.29  \n",
      "1                      4.40                 20.51                 89.35  \n",
      "2                      4.40                 20.50                 89.33  \n",
      "3                      4.40                 20.50                 89.33  \n",
      "4                      4.41                 20.50                 89.36  \n",
      "...                     ...                   ...                   ...  \n",
      "70123                  4.69                 19.22                 88.83  \n",
      "70124                  4.69                 19.22                 88.82  \n",
      "70125                  4.70                 19.21                 88.80  \n",
      "70126                  4.70                 19.21                 88.81  \n",
      "70127                  4.70                 19.21                 88.81  \n",
      "\n",
      "[70128 rows x 7 columns]\n"
     ]
    },
    {
     "data": {
      "text/html": [
       "<div>\n",
       "<style scoped>\n",
       "    .dataframe tbody tr th:only-of-type {\n",
       "        vertical-align: middle;\n",
       "    }\n",
       "\n",
       "    .dataframe tbody tr th {\n",
       "        vertical-align: top;\n",
       "    }\n",
       "\n",
       "    .dataframe thead th {\n",
       "        text-align: right;\n",
       "    }\n",
       "</style>\n",
       "<table border=\"1\" class=\"dataframe\">\n",
       "  <thead>\n",
       "    <tr style=\"text-align: right;\">\n",
       "      <th></th>\n",
       "      <th>Station No</th>\n",
       "      <th>Date</th>\n",
       "      <th>Time</th>\n",
       "      <th>1510H084 Water Level</th>\n",
       "      <th>1510H076 Water Level</th>\n",
       "      <th>1510H071 Water Level</th>\n",
       "      <th>1510H057 Water Level</th>\n",
       "    </tr>\n",
       "  </thead>\n",
       "  <tbody>\n",
       "    <tr>\n",
       "      <th>0</th>\n",
       "      <td>1510H084</td>\n",
       "      <td>2015/1/1</td>\n",
       "      <td>00:00</td>\n",
       "      <td>146.20</td>\n",
       "      <td>4.41</td>\n",
       "      <td>20.45</td>\n",
       "      <td>89.29</td>\n",
       "    </tr>\n",
       "    <tr>\n",
       "      <th>1</th>\n",
       "      <td>1510H084</td>\n",
       "      <td>2015/1/1</td>\n",
       "      <td>01:00</td>\n",
       "      <td>146.18</td>\n",
       "      <td>4.40</td>\n",
       "      <td>20.51</td>\n",
       "      <td>89.35</td>\n",
       "    </tr>\n",
       "    <tr>\n",
       "      <th>2</th>\n",
       "      <td>1510H084</td>\n",
       "      <td>2015/1/1</td>\n",
       "      <td>02:00</td>\n",
       "      <td>146.22</td>\n",
       "      <td>4.40</td>\n",
       "      <td>20.50</td>\n",
       "      <td>89.33</td>\n",
       "    </tr>\n",
       "    <tr>\n",
       "      <th>3</th>\n",
       "      <td>1510H084</td>\n",
       "      <td>2015/1/1</td>\n",
       "      <td>03:00</td>\n",
       "      <td>146.24</td>\n",
       "      <td>4.40</td>\n",
       "      <td>20.50</td>\n",
       "      <td>89.33</td>\n",
       "    </tr>\n",
       "    <tr>\n",
       "      <th>4</th>\n",
       "      <td>1510H084</td>\n",
       "      <td>2015/1/1</td>\n",
       "      <td>04:00</td>\n",
       "      <td>146.25</td>\n",
       "      <td>4.41</td>\n",
       "      <td>20.50</td>\n",
       "      <td>89.36</td>\n",
       "    </tr>\n",
       "  </tbody>\n",
       "</table>\n",
       "</div>"
      ],
      "text/plain": [
       "  Station No      Date   Time  1510H084 Water Level  1510H076 Water Level  \\\n",
       "0   1510H084  2015/1/1  00:00                146.20                  4.41   \n",
       "1   1510H084  2015/1/1  01:00                146.18                  4.40   \n",
       "2   1510H084  2015/1/1  02:00                146.22                  4.40   \n",
       "3   1510H084  2015/1/1  03:00                146.24                  4.40   \n",
       "4   1510H084  2015/1/1  04:00                146.25                  4.41   \n",
       "\n",
       "   1510H071 Water Level  1510H057 Water Level  \n",
       "0                 20.45                 89.29  \n",
       "1                 20.51                 89.35  \n",
       "2                 20.50                 89.33  \n",
       "3                 20.50                 89.33  \n",
       "4                 20.50                 89.36  "
      ]
     },
     "execution_count": 1,
     "metadata": {},
     "output_type": "execute_result"
    }
   ],
   "source": [
    "import os\n",
    "import numpy as np\n",
    "import pandas as pd\n",
    "import matplotlib.pyplot as plt\n",
    "import seaborn as sns\n",
    "from scipy import stats\n",
    "from sklearn.model_selection import train_test_split\n",
    "from sklearn.ensemble import RandomForestRegressor\n",
    "from sklearn.metrics import mean_squared_error\n",
    "from sklearn.preprocessing import StandardScaler \n",
    "from scipy import stats\n",
    "from scipy.stats import norm,skew\n",
    "import warnings\n",
    "from sklearn.preprocessing import RobustScaler\n",
    "warnings.filterwarnings(\"ignore\")\n",
    "%matplotlib inline\n",
    "# MinMaxScaler用於數據的歸一化\n",
    "from sklearn.preprocessing import MinMaxScaler\n",
    "import tensorflow as tf\n",
    "from tensorflow.keras.models import Sequential\n",
    "from tensorflow.keras.layers import LSTM, Dense\n",
    "from sklearn.metrics import r2_score\n",
    "\n",
    "# 讀取數據\n",
    "\n",
    "data_path = r'C:\\Users\\rex\\Desktop\\水位預測\\1\\水位_整理.csv'\n",
    "data = pd.read_csv(data_path)\n",
    "\n",
    "print (data)\n",
    "data.head(5)\n",
    "\n"
   ]
  },
  {
   "cell_type": "code",
   "execution_count": 2,
   "metadata": {},
   "outputs": [
    {
     "name": "stdout",
     "output_type": "stream",
     "text": [
      "c:\\Users\\rex\\Anaconda3\\envs\\tf-GPU\\python.exe\n"
     ]
    }
   ],
   "source": [
    "import sys\n",
    "print(sys.executable)"
   ]
  },
  {
   "cell_type": "code",
   "execution_count": 3,
   "metadata": {},
   "outputs": [],
   "source": [
    "# 合併日期和時間為單一時間戳，並設為索引\n",
    "data['Timestamp'] = pd.to_datetime(data['Date'] + ' ' + data['Time'])\n",
    "data = data.set_index('Timestamp')\n",
    "\n",
    "# 刪除不必要的列\n",
    "data = data.drop(['Station No', 'Date', 'Time'], axis=1)\n"
   ]
  },
  {
   "cell_type": "code",
   "execution_count": 5,
   "metadata": {},
   "outputs": [
    {
     "data": {
      "image/png": "[encoded data removed]",
      "text/plain": [
       "<Figure size 1000x1000 with 1 Axes>"
      ]
     },
     "metadata": {},
     "output_type": "display_data"
    }
   ],
   "source": [
    "#isnull()看數據缺失值\n",
    "plt.figure(figsize=(10,10))\n",
    "sns.heatmap(data.isnull(), yticklabels=False, cbar=False)\n",
    "plt.tight_layout()\n",
    "plt.show()"
   ]
  },
  {
   "cell_type": "code",
   "execution_count": 7,
   "metadata": {},
   "outputs": [
    {
     "name": "stdout",
     "output_type": "stream",
     "text": [
      "(70128, 4)\n",
      "<class 'pandas.core.frame.DataFrame'>\n",
      "DatetimeIndex: 70128 entries, 2015-01-01 00:00:00 to 2022-12-31 23:00:00\n",
      "Data columns (total 4 columns):\n",
      " #   Column                Non-Null Count  Dtype  \n",
      "---  ------                --------------  -----  \n",
      " 0   1510H084 Water Level  70128 non-null  float64\n",
      " 1   1510H076 Water Level  70128 non-null  float64\n",
      " 2   1510H071 Water Level  70128 non-null  float64\n",
      " 3   1510H057 Water Level  70128 non-null  float64\n",
      "dtypes: float64(4)\n",
      "memory usage: 2.7 MB\n"
     ]
    }
   ],
   "source": [
    "#看數據維度\n",
    "print(data.shape)\n",
    "#看數據訊息\n",
    "data.info()"
   ]
  },
  {
   "cell_type": "code",
   "execution_count": null,
   "metadata": {},
   "outputs": [],
   "source": [
    "#無氣提相關性分析\n",
    "\n",
    "targets = [\"1510H084 Water Level\", \"1510H076 Water Level\", \"1510H071 Water Level\", \"1510H057 Water Level\"]\n",
    "k = 10\n",
    "corrmat = data.corr()\n",
    "cols = corrmat.nlargest(k, targets)[targets].index\n",
    "cm = np.corrcoef(data[cols].values.T)\n",
    "\n",
    "fig, ax = plt.subplots(figsize=(8, 8))\n",
    "sns.set(font_scale=1.25)\n",
    "hm = sns.heatmap(cm, cbar=True, annot=True, square=True, fmt='.3f', annot_kws={'size':10},\n",
    "            yticklabels=cols.values, xticklabels=cols.values, cmap='RdYlBu_r', vmin=0.6, vmax=1.0)\n",
    "plt.title(f\"Top {k} Correlations with Targets\")\n",
    "plt.show()\n"
   ]
  },
  {
   "cell_type": "code",
   "execution_count": 8,
   "metadata": {},
   "outputs": [],
   "source": [
    "# 歸一化數據\n",
    "scalers = {}\n",
    "for i in data.columns:\n",
    "    scaler = MinMaxScaler(feature_range=(0, 1))\n",
    "    s_s = scaler.fit_transform(data[i].values.reshape(-1,1))\n",
    "    s_s = np.reshape(s_s, len(s_s))\n",
    "    scalers['scaler_'+ i] = scaler\n",
    "    data[i] = s_s"
   ]
  },
  {
   "cell_type": "code",
   "execution_count": 9,
   "metadata": {},
   "outputs": [
    {
     "name": "stdout",
     "output_type": "stream",
     "text": [
      "WARNING:tensorflow:Layer lstm will not use cuDNN kernels since it doesn't meet the criteria. It will use a generic GPU kernel as fallback when running on GPU.\n",
      "Epoch 1/10\n",
      "1577/1577 [==============================] - 124s 78ms/step - loss: 0.0020 - val_loss: 0.0012\n",
      "Epoch 2/10\n",
      "1577/1577 [==============================] - ETA: 0s - loss: 0.0011"
     ]
    }
   ],
   "source": [
    "# 切分訓練集與測試集\n",
    "train_size = int(len(data) * 0.8)\n",
    "train, test = data[:train_size], data[train_size:]\n",
    "\n",
    "# 定義一個函數來創建輸入序列和目標序列\n",
    "def create_dataset(X, y, time_steps=1):\n",
    "    Xs, ys = [], []\n",
    "    for i in range(len(X) - time_steps):\n",
    "        v = X.iloc[i:(i + time_steps)].values\n",
    "        Xs.append(v)\n",
    "        ys.append(y.iloc[i + time_steps])\n",
    "    return np.array(Xs), np.array(ys)\n",
    "\n",
    "# 創建輸入序列和目標序列\n",
    "time_steps = 48\n",
    "X_train, y_train = create_dataset(train, train, time_steps)\n",
    "X_test, y_test = create_dataset(test, test, time_steps)\n",
    "\n",
    "# 定義LSTM模型\n",
    "model = Sequential()\n",
    "model.add(LSTM(50, activation='relu', input_shape=(X_train.shape[1], X_train.shape[2])))\n",
    "model.add(Dense(4))\n",
    "\n",
    "# 編譯模型\n",
    "model.compile(optimizer='adam', loss='mse')\n",
    "\n",
    "# 訓練模型\n",
    "history = model.fit(\n",
    "    X_train, y_train,\n",
    "    epochs=10,\n",
    "    batch_size=32,\n",
    "    validation_split=0.1,\n",
    "    verbose=1,\n",
    "    shuffle=False\n",
    ")\n",
    "\n",
    "# 進行預測\n",
    "y_pred = model.predict(X_test)\n",
    "\n",
    "# 將預測值和實際值的縮放反轉回來\n",
    "for i in range(y_pred.shape[1]):\n",
    "    y_pred[:, i] = scalers['scaler_' + data.columns[i]].inverse_transform(y_pred[:, i].reshape(-1, 1)).flatten()\n",
    "    y_test[:, i] = scalers['scaler_' + data.columns[i]].inverse_transform(y_test[:, i].reshape(-1, 1)).flatten()\n",
    "\n",
    "# 計算R^2 score\n",
    "r2 = r2_score(y_test, y_pred)\n",
    "print('R^2 score:', r2)"
   ]
  }
 ],
 "metadata": {
  "kernelspec": {
   "display_name": "Python 3",
   "language": "python",
   "name": "python3"
  },
  "language_info": {
   "codemirror_mode": {
    "name": "ipython",
    "version": 3
   },
   "file_extension": ".py",
   "mimetype": "text/x-python",
   "name": "python",
   "nbconvert_exporter": "python",
   "pygments_lexer": "ipython3",
   "version": "3.8.11"
  },
  "orig_nbformat": 4
 },
 "nbformat": 4,
 "nbformat_minor": 2
}
