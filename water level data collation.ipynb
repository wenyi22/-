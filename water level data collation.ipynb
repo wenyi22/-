{
 "cells": [
  {
   "cell_type": "code",
   "execution_count": 4,
   "metadata": {},
   "outputs": [],
   "source": [
    "import pandas as pd\n",
    "\n",
    "# Load the CSV data\n",
    "data = pd.read_csv(r'C:\\Users\\rex\\Desktop\\水位預測\\water level原始資料\\彰雲橋_時水位.csv')\n",
    "\n",
    "# Convert the 'Date' column to datetime format\n",
    "data['Date'] = pd.to_datetime(data['Date'])\n",
    "\n",
    "# Extract date from 'Date' column\n",
    "data['Date'] = data['Date'].dt.date\n",
    "\n",
    "# Melt the data from wide to long format\n",
    "melted_data = pd.melt(data, id_vars=['Station No', 'Date'], \n",
    "                       var_name='Time', \n",
    "                       value_name='Water Level',\n",
    "                       value_vars=[f'HQ{i}' for i in range(24)])\n",
    "\n",
    "# Correct the 'Time' column to represent the actual hour\n",
    "melted_data['Time'] = melted_data['Time'].str[2:].astype(int).apply(lambda x: str(x).zfill(2) + ':00')\n",
    "\n",
    "# Save the processed data to a new CSV file\n",
    "melted_data.to_csv(r'C:\\Users\\rex\\Desktop\\水位預測\\1\\彰雲橋_時水位.csv', index=False)"
   ]
  }
 ],
 "metadata": {
  "kernelspec": {
   "display_name": "Python 3",
   "language": "python",
   "name": "python3"
  },
  "language_info": {
   "codemirror_mode": {
    "name": "ipython",
    "version": 3
   },
   "file_extension": ".py",
   "mimetype": "text/x-python",
   "name": "python",
   "nbconvert_exporter": "python",
   "pygments_lexer": "ipython3",
   "version": "3.10.9"
  },
  "orig_nbformat": 4
 },
 "nbformat": 4,
 "nbformat_minor": 2
}
