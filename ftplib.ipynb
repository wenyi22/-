{
 "cells": [
  {
   "cell_type": "code",
   "execution_count": 2,
   "metadata": {},
   "outputs": [
    {
     "name": "stdout",
     "output_type": "stream",
     "text": [
      "FTP上的文件夾列表：\n",
      "03-22-19  10:29AM       <DIR>          @eaDir\n",
      "03-22-19  10:29AM       <DIR>          @tmp\n",
      "10-15-21  02:19PM       <DIR>          CSRSR_SPOT\n",
      "12-13-22  04:02PM       <DIR>          CWB_automatic\n",
      "12-13-22  04:02PM       <DIR>          CWB_bureau\n",
      "03-23-21  10:24AM       <DIR>          CWB_±´ªÅ¸ê®Æ\n",
      "09-07-22  04:17PM       <DIR>          EPA_station_data\n",
      "06-21-23  05:08PM       <DIR>          F5img\n",
      "07-28-23  01:48PM       <DIR>          H8_AOD_PM_TYPE\n",
      "05-03-21  01:18PM       <DIR>          H8_Feng_Chia\n",
      "06-08-21  02:17PM       <DIR>          H8_SRS_PreAOD\n",
      "11-15-22  08:11PM       <DIR>          H8_Surface_AOD\n",
      "03-25-23  10:49AM       <DIR>          Landsat_8_Taiwan\n",
      "03-25-23  03:29AM       <DIR>          Landsat_8_Taiwan_C2\n",
      "07-29-22  05:05PM       <DIR>          LDChen_Tmp_220630\n",
      "02-10-20  10:04AM       <DIR>          MODIS_MOD08_D3\n",
      "02-10-20  11:39AM       <DIR>          MODIS_MOD08_E3\n",
      "12-24-20  11:19AM       <DIR>          MODIS_MOD08_M3\n",
      "11-08-22  04:27PM       <DIR>          MODIS_MOD13C2\n",
      "11-26-20  04:58AM       <DIR>          MODIS_MYD08_M3\n",
      "11-26-20  07:21AM       <DIR>          MODIS_Surface_ref\n",
      "06-29-22  02:06PM       <DIR>          NASA_OMI_L3\n",
      "05-16-23  11:11AM       <DIR>          NTU_AOD\n",
      "07-21-23  02:09AM       <DIR>          PM25_2022\n",
      "06-27-23  12:07PM       <DIR>          SPOT_¥þ¥x¼v¹³202211_202301\n"
     ]
    }
   ],
   "source": [
    "from ftplib import FTP\n",
    "\n",
    "# FTP\n",
    "ftp_host = \"140.115.111.45\"\n",
    "ftp_user = \"ERSL_ftpuser\"  \n",
    "ftp_password = \"ERSL_ftpuser\"  \n",
    "\n",
    "def get_ftp_folder_list(host, user, password):\n",
    "    try:\n",
    "        ftp = FTP(host)\n",
    "        ftp.login(user=user, passwd=password)\n",
    "\n",
    "        ftp.encoding = \"ISO-8859-1\"\n",
    "\n",
    "        folder_list = []\n",
    "        ftp.dir(folder_list.append)\n",
    "        \n",
    "        ftp.quit()\n",
    "\n",
    "        return folder_list\n",
    "\n",
    "    except Exception as e:\n",
    "        print(f\"發生錯誤：{e}\")\n",
    "        return None\n",
    "\n",
    "if __name__ == \"__main__\":\n",
    "    folders = get_ftp_folder_list(ftp_host, ftp_user, ftp_password)\n",
    "    if folders:\n",
    "        print(\"FTP上的文件夾列表：\")\n",
    "        for folder in folders:\n",
    "            print(folder)\n",
    "    else:\n",
    "        print(\"無法獲取文件列表。\")\n"
   ]
  },
  {
   "cell_type": "code",
   "execution_count": 3,
   "metadata": {},
   "outputs": [
    {
     "name": "stdout",
     "output_type": "stream",
     "text": [
      "發生錯誤：'gbk' codec can't encode character '\\x82' in position 51: illegal multibyte sequence\n"
     ]
    }
   ],
   "source": [
    "from ftplib import FTP\n",
    "\n",
    "ftp_host = \"140.115.111.45\"\n",
    "ftp_user = \"ERSL_ftpuser\"\n",
    "ftp_password = \"ERSL_ftpuser\"\n",
    "download_folder = \"ftp:\\\\ERSL_ftpuser@140.115.111.45\\H8_AOD_PM_TYPE\\202302/20230228\"  # 更改為您想要下載的特定文件夾名稱\n",
    "\n",
    "def download_files_from_ftp(host, user, password, folder_name):\n",
    "    try:\n",
    "        ftp = FTP(host)\n",
    "        ftp.login(user=user, passwd=password)\n",
    "\n",
    "        ftp.encoding = \"gbk\"\n",
    "\n",
    "        # 移動到特定文件夾\n",
    "        ftp.cwd(folder_name)\n",
    "\n",
    "        # 取得檔案列表\n",
    "        file_list = []\n",
    "        ftp.dir(file_list.append)\n",
    "\n",
    "        # 下載每個檔案\n",
    "        for file_info in file_list:\n",
    "            filename = file_info.split()[-1]\n",
    "            with open(filename, \"wb\") as file:\n",
    "                ftp.retrbinary(\"RETR \" + filename, file.write)\n",
    "\n",
    "        # 關閉\n",
    "        ftp.quit()\n",
    "        print(f\"已成功下載文件夾 '{folder_name}' 中的檔案。\")\n",
    "\n",
    "    except Exception as e:\n",
    "        print(f\"發生錯誤：{e}\")\n",
    "\n",
    "if __name__ == \"__main__\":\n",
    "    folder_name_to_download = r\"C:\\Users\\rex\\Desktop\\1232\"  \n",
    "    download_files_from_ftp(ftp_host, ftp_user, ftp_password, download_folder)\n"
   ]
  },
  {
   "cell_type": "code",
   "execution_count": 1,
   "metadata": {},
   "outputs": [
    {
     "name": "stdout",
     "output_type": "stream",
     "text": [
      "Requirement already satisfied: ftputil in d:\\anaconda\\lib\\site-packages (5.0.4)\n"
     ]
    }
   ],
   "source": [
    "! pip install ftputil"
   ]
  },
  {
   "cell_type": "code",
   "execution_count": 1,
   "metadata": {},
   "outputs": [
    {
     "ename": "ModuleNotFoundError",
     "evalue": "No module named 'ftputil'",
     "output_type": "error",
     "traceback": [
      "\u001b[1;31m---------------------------------------------------------------------------\u001b[0m",
      "\u001b[1;31mModuleNotFoundError\u001b[0m                       Traceback (most recent call last)",
      "Cell \u001b[1;32mIn[1], line 1\u001b[0m\n\u001b[1;32m----> 1\u001b[0m \u001b[39mimport\u001b[39;00m \u001b[39mftputil\u001b[39;00m\n\u001b[0;32m      3\u001b[0m \u001b[39m# FTP\u001b[39;00m\n\u001b[0;32m      4\u001b[0m ftp_host \u001b[39m=\u001b[39m \u001b[39m\"\u001b[39m\u001b[39m140.115.111.45\u001b[39m\u001b[39m\"\u001b[39m\n",
      "\u001b[1;31mModuleNotFoundError\u001b[0m: No module named 'ftputil'"
     ]
    }
   ],
   "source": [
    "import ftputil\n",
    "\n",
    "# FTP\n",
    "ftp_host = \"140.115.111.45\"\n",
    "ftp_user = \"ERSL_ftpuser\"\n",
    "ftp_password = \"ERSL_ftpuser\"\n",
    "download_folder = \"ftp:\\\\ERSL_ftpuser@140.115.111.45\\H8_AOD_PM_TYPE\\202302/20230228\"  \n",
    "\n",
    "def download_files_from_ftp(host, user, password, folder_name):\n",
    "    try:\n",
    "        \n",
    "        with ftputil.FTPHost(host, user, password) as host:\n",
    "            \n",
    "            host.chdir(folder_name)\n",
    "\n",
    "            \n",
    "            file_list = host.listdir(host.curdir)\n",
    "\n",
    "            \n",
    "            for filename in file_list:\n",
    "                host.download(filename, filename)\n",
    "\n",
    "        print(f\"已成功下載文件夾 '{folder_name}' 中的檔案。\")\n",
    "\n",
    "    except Exception as e:\n",
    "        print(f\"發生錯誤：{e}\")\n",
    "\n",
    "if __name__ == \"__main__\":\n",
    "    folder_name_to_download = r\"C:\\Users\\rex\\Desktop\\1232\"  \n",
    "    download_files_from_ftp(ftp_host, ftp_user, ftp_password, folder_name_to_download)\n"
   ]
  },
  {
   "cell_type": "code",
   "execution_count": 2,
   "metadata": {},
   "outputs": [
    {
     "name": "stdout",
     "output_type": "stream",
     "text": [
      "d:\\ANACONDA\\python.exe\n"
     ]
    }
   ],
   "source": [
    "import sys\n",
    "print(sys.executable)\n"
   ]
  },
  {
   "cell_type": "code",
   "execution_count": null,
   "metadata": {},
   "outputs": [
    {
     "name": "stdout",
     "output_type": "stream",
     "text": [
      "[[array([[nan, nan, nan, ..., nan, nan, nan],\n",
      "         [nan, nan, nan, ..., nan, nan, nan],\n",
      "         [nan, nan, nan, ..., nan, nan, nan],\n",
      "         ...,\n",
      "         [nan, nan, nan, ..., nan, nan, nan],\n",
      "         [nan, nan, nan, ..., nan, nan, nan],\n",
      "         [nan, nan, nan, ..., nan, nan, nan]])]]\n"
     ]
    }
   ],
   "source": [
    "from  import loadmat\n",
    "\n",
    "# 讀取\n",
    "mat_file = loadmat(r\"C:\\Users\\rex\\Desktop\\matlab\\AOD_20230228_0750.mat\")\n",
    "\n",
    "# 取得資料\n",
    "data_b01 = mat_file['Data_B01']\n",
    "data_b02 = mat_file['Data_B02']\n",
    "data_b03 = mat_file['Data_B03']\n",
    "\n",
    "#data_b01[0, 0]['AOD'] =>data_b01 陣列中第一行第一列\n",
    "aod_b01 = data_b01[0, 0]['AOD']\n",
    "toa_b01 = data_b01[0, 0]['TOA']\n",
    "surf_b01 = data_b01[0, 0]['Surf']\n",
    "\n",
    "aod_b02 = data_b02[0, 0]['AOD']\n",
    "toa_b02 = data_b02[0, 0]['TOA']\n",
    "surf_b02 = data_b02[0, 0]['Surf']\n",
    "\n",
    "aod_b03 = data_b03[0, 0]['AOD']\n",
    "toa_b03 = data_b03[0, 0]['TOA']\n",
    "surf_b03 = data_b03[0, 0]['Surf']\n",
    "\n",
    "print(data_b01['AOD'])"
   ]
  }
 ],
 "metadata": {
  "kernelspec": {
   "display_name": "Python 3",
   "language": "python",
   "name": "python3"
  },
  "language_info": {
   "codemirror_mode": {
    "name": "ipython",
    "version": 3
   },
   "file_extension": ".py",
   "mimetype": "text/x-python",
   "name": "python",
   "nbconvert_exporter": "python",
   "pygments_lexer": "ipython3",
   "version": "3.10.9"
  },
  "orig_nbformat": 4
 },
 "nbformat": 4,
 "nbformat_minor": 2
}
