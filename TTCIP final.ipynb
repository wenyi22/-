{
 "cells": [
  {
   "cell_type": "code",
   "execution_count": 1,
   "metadata": {},
   "outputs": [
    {
     "name": "stderr",
     "output_type": "stream",
     "text": [
      "Processing files:  12%|█▎        | 1/8 [00:03<00:25,  3.66s/it]"
     ]
    },
    {
     "name": "stdout",
     "output_type": "stream",
     "text": [
      "資料已成功寫入csv檔案：D:\\TTCIP\\test\\1\\AR6_統計降尺度_日資料_臺灣_平均溫_ssp126_ACCESS-CM2_2015.csv\n"
     ]
    },
    {
     "name": "stderr",
     "output_type": "stream",
     "text": [
      "Processing files:  25%|██▌       | 2/8 [00:04<00:13,  2.27s/it]"
     ]
    },
    {
     "name": "stdout",
     "output_type": "stream",
     "text": [
      "資料已成功寫入csv檔案：D:\\TTCIP\\test\\1\\AR6_統計降尺度_日資料_臺灣_平均溫_ssp126_ACCESS-ESM1-5_2015.csv\n"
     ]
    },
    {
     "name": "stderr",
     "output_type": "stream",
     "text": [
      "Processing files:  38%|███▊      | 3/8 [00:06<00:09,  1.80s/it]"
     ]
    },
    {
     "name": "stdout",
     "output_type": "stream",
     "text": [
      "資料已成功寫入csv檔案：D:\\TTCIP\\test\\1\\AR6_統計降尺度_日資料_臺灣_最低溫_ssp126_ACCESS-CM2_2015.csv\n"
     ]
    },
    {
     "name": "stderr",
     "output_type": "stream",
     "text": [
      "Processing files:  50%|█████     | 4/8 [00:07<00:06,  1.60s/it]"
     ]
    },
    {
     "name": "stdout",
     "output_type": "stream",
     "text": [
      "資料已成功寫入csv檔案：D:\\TTCIP\\test\\1\\AR6_統計降尺度_日資料_臺灣_最低溫_ssp126_ACCESS-ESM1-5_2015.csv\n"
     ]
    },
    {
     "name": "stderr",
     "output_type": "stream",
     "text": [
      "Processing files:  62%|██████▎   | 5/8 [00:08<00:04,  1.47s/it]"
     ]
    },
    {
     "name": "stdout",
     "output_type": "stream",
     "text": [
      "資料已成功寫入csv檔案：D:\\TTCIP\\test\\1\\AR6_統計降尺度_日資料_臺灣_最高溫_ssp126_ACCESS-CM2_2015.csv\n"
     ]
    },
    {
     "name": "stderr",
     "output_type": "stream",
     "text": [
      "Processing files:  75%|███████▌  | 6/8 [00:09<00:02,  1.38s/it]"
     ]
    },
    {
     "name": "stdout",
     "output_type": "stream",
     "text": [
      "資料已成功寫入csv檔案：D:\\TTCIP\\test\\1\\AR6_統計降尺度_日資料_臺灣_最高溫_ssp126_ACCESS-ESM1-5_2015.csv\n"
     ]
    },
    {
     "name": "stderr",
     "output_type": "stream",
     "text": [
      "Processing files:  88%|████████▊ | 7/8 [00:11<00:01,  1.33s/it]"
     ]
    },
    {
     "name": "stdout",
     "output_type": "stream",
     "text": [
      "資料已成功寫入csv檔案：D:\\TTCIP\\test\\1\\AR6_統計降尺度_日資料_臺灣_降雨量_ssp126_ACCESS-CM2_2015.csv\n"
     ]
    },
    {
     "name": "stderr",
     "output_type": "stream",
     "text": [
      "Processing files: 100%|██████████| 8/8 [00:12<00:00,  1.56s/it]"
     ]
    },
    {
     "name": "stdout",
     "output_type": "stream",
     "text": [
      "資料已成功寫入csv檔案：D:\\TTCIP\\test\\1\\AR6_統計降尺度_日資料_臺灣_降雨量_ssp126_ACCESS-ESM1-5_2015.csv\n"
     ]
    },
    {
     "name": "stderr",
     "output_type": "stream",
     "text": [
      "\n"
     ]
    }
   ],
   "source": [
    "#處理所有.csv檔案將其轉換為長格式\n",
    "import pandas as pd\n",
    "import os\n",
    "import re\n",
    "from tqdm import tqdm\n",
    "\n",
    "folder_path = r\"D:\\TTCIP\\test\"\n",
    "output_folder = r\"D:\\TTCIP\\test\\1\"\n",
    "output_file_pattern = os.path.join(output_folder, \"AR6_統計降尺度_日資料_臺灣_{}_{}_{}.csv\")\n",
    "\n",
    "if not os.path.exists(output_folder):\n",
    "    os.makedirs(output_folder)\n",
    "\n",
    "file_paths = [os.path.join(folder_path, filename) for filename in os.listdir(folder_path) if filename.endswith(\".csv\") and filename != \"output.csv\"]\n",
    " \n",
    "for i, file_path in enumerate(tqdm(file_paths, desc=\"Processing files\")):\n",
    "    filename = os.path.basename(file_path)\n",
    "    match = re.search(r'AR6_統計降尺度_日資料_臺灣_([\\w-]+)_([\\w-]+)_(\\d{4})', filename)\n",
    "    if not match:\n",
    "        print(f'Filename does not match regex: {filename}')\n",
    "        continue\n",
    "\n",
    "    var_type = match.group(1)\n",
    "    model_name = match.group(2)\n",
    "    year = match.group(3)\n",
    "\n",
    "    try:\n",
    "        df = pd.read_csv(file_path)\n",
    "        df.fillna(-99.9, inplace=True)\n",
    "        df.columns = ['LON', 'LAT'] + pd.to_datetime(df.columns[2:], format='%Y%m%d', errors='coerce').tolist()\n",
    "        df_melt = df.melt(id_vars=[\"LON\", \"LAT\"], var_name=\"DATE\", value_name=f\"{model_name}_{var_type}\") \n",
    "\n",
    "        output_file = output_file_pattern.format(var_type, model_name, year)\n",
    "        df_melt.to_csv(output_file, index=False)\n",
    "        \n",
    "        print(f\"資料已成功寫入csv檔案：{output_file}\")\n",
    "        \n",
    "        del df\n",
    "        del df_melt\n",
    "\n",
    "    except Exception as e:\n",
    "        print(f'Error processing file: {filename}, error: {e}')\n"
   ]
  },
  {
   "cell_type": "code",
   "execution_count": 2,
   "metadata": {},
   "outputs": [
    {
     "name": "stdout",
     "output_type": "stream",
     "text": [
      "   ACCESS-CM2_平均溫_ssp126  ACCESS-CM2_最低溫_ssp126  ACCESS-CM2_最高溫_ssp126  \\\n",
      "0                  -99.9                  -99.9                  -99.9   \n",
      "1                  -99.9                  -99.9                  -99.9   \n",
      "2                  -99.9                  -99.9                  -99.9   \n",
      "3                  -99.9                  -99.9                  -99.9   \n",
      "4                  -99.9                  -99.9                  -99.9   \n",
      "\n",
      "   ACCESS-CM2_降雨量_ssp126  ACCESS-ESM1-5_平均溫_ssp126  ACCESS-ESM1-5_最低溫_ssp126  \\\n",
      "0                  -99.9                     -99.9                     -99.9   \n",
      "1                  -99.9                     -99.9                     -99.9   \n",
      "2                  -99.9                     -99.9                     -99.9   \n",
      "3                  -99.9                     -99.9                     -99.9   \n",
      "4                  -99.9                     -99.9                     -99.9   \n",
      "\n",
      "   ACCESS-ESM1-5_最高溫_ssp126  ACCESS-ESM1-5_降雨量_ssp126        DATE    LAT  \\\n",
      "0                     -99.9                     -99.9  2015-01-01  23.30   \n",
      "1                     -99.9                     -99.9  2015-01-01  23.35   \n",
      "2                     -99.9                     -99.9  2015-01-01  23.40   \n",
      "3                     -99.9                     -99.9  2015-01-01  23.40   \n",
      "4                     -99.9                     -99.9  2015-01-01  23.20   \n",
      "\n",
      "      LON  \n",
      "0  119.30  \n",
      "1  119.30  \n",
      "2  119.30  \n",
      "3  119.35  \n",
      "4  119.40  \n"
     ]
    },
    {
     "name": "stderr",
     "output_type": "stream",
     "text": [
      "d:\\ANACONDA\\lib\\site-packages\\pandas\\util\\_decorators.py:211: FutureWarning: the 'encoding' keyword is deprecated and will be removed in a future version. Please take steps to stop the use of 'encoding'\n",
      "  return func(*args, **kwargs)\n"
     ]
    }
   ],
   "source": [
    "#合併資料夾內.csv檔案\n",
    "import os\n",
    "import pandas as pd\n",
    "\n",
    "# 設定主資料夾路徑\n",
    "main_folder_path = r\"D:\\TTCIP\\SSP126\"\n",
    "\n",
    "# 迴圈處理每個資料夾\n",
    "for year in range(2015, 2101):\n",
    "    folder_path = os.path.join(main_folder_path, str(year))\n",
    "    \n",
    "    # 獲取資料夾中所有的 CSV 檔案路徑\n",
    "    file_paths = [os.path.join(folder_path, file) for file in os.listdir(folder_path) if file.endswith('.csv')]\n",
    "\n",
    "    # 初始化一個空的 DataFrame 用於存放最終結果\n",
    "    combined_df = None\n",
    "\n",
    "    # 處理每一個檔案\n",
    "    for file_path in file_paths:\n",
    "        # 讀取檔案並將其儲存為 DataFrame\n",
    "        df = pd.read_csv(file_path)\n",
    "    \n",
    "        # 刪除日期欄位為空的行\n",
    "        df = df.dropna(subset=['DATE'])\n",
    "    \n",
    "        # 如果這是第一個檔案，則將其指派給 combined_df\n",
    "        if combined_df is None:\n",
    "            combined_df = df\n",
    "        else:\n",
    "            # 對於後續的檔案，將它們與 combined_df 進行合併\n",
    "            # 保留原始的欄位名稱\n",
    "            # 使用 'inner' 合併來只保留在兩個 DataFrame 中都存在的行\n",
    "            # 如果新的數據不為 NaN，則用新的數據更新現有的數據\n",
    "            combined_df = combined_df.combine_first(df)\n",
    "\n",
    "    \n",
    "    # 在合併後的 DataFrame 中，將第一個欄位的空白標題填入 \"number\"\n",
    "    if combined_df.columns[0] == '':\n",
    "        combined_df.rename(columns={'': 'number'}, inplace=True)\n",
    "\n",
    "    # 將所有的空值替換為-99.9\n",
    "    combined_df.fillna(-99.9, inplace=True)\n",
    "    \n",
    "    # 將合併後的 DataFrame 轉存為 Excel 文件\n",
    "    # 將列名轉換為小寫\n",
    "    combined_df.columns = [column.lower() for column in combined_df.columns]\n",
    "    combined_df.to_excel(os.path.join(folder_path, f\"{year}_data.xlsx\"), encoding='utf-8')\n",
    "    \n",
    "\n"
   ]
  },
  {
   "cell_type": "code",
   "execution_count": null,
   "metadata": {},
   "outputs": [],
   "source": [
    "#創建資料庫表格，寫入資料庫\n",
    "import psycopg2\n",
    "\n",
    "database = \"Rawdata_NCDR\"\n",
    "\n",
    "conn = psycopg2.connect(database=database, user=\"postgres\", password=\"1!qaz2@wsx\", host=\"140.134.51.64\", port=\"5432\")\n",
    "\n",
    "cursor = conn.cursor()\n",
    "create_table_query = '''\n",
    "    CREATE TABLE ncdr_ssp_126 (\n",
    "        number INTEGER,\n",
    "        lon FLOAT,\n",
    "        lat FLOAT,\n",
    "        date DATE,\n",
    "        inm_cm4_8_最低溫_ssp126 float,kace_1_0_g_最高溫_ssp126 float,cmcc_esm2_降雨量_ssp126 float,mpi_esm1_2_hr_降雨量_ssp126 float,inm_cm5_0_平均溫_ssp126 float,canesm5_平均溫_ssp126 float,miroc6_降雨量_ssp126 float,iitm_esm_降雨量_ssp126 float,nor esm2_lm_最低溫_ssp126 float,access_esm1_5_最高溫_ssp126 float,bcc_csm2_mr_最高溫_ssp126 float,tai esm1_降雨量_ssp126 float,awi_cm_1_1_mr_最低溫_ssp126 float,inm_cm5_0_最高溫_ssp126 float,ipsl_cm6a_lr_平均溫_ssp126 float,tai esm1_最低溫_ssp126 float,fg oals_g3_最高溫_ssp126 float,access_esm1_5_平均溫_ssp126 float,gfdl_esm4_降雨量_ssp126 float,ec_earth3_veg_最高溫_ssp126 float,ec_earth3_veg_lr_降雨量_ssp126 float,ec_earth3_最高溫_ssp126 float,ipsl_cm6a_lr_降雨量_ssp126 float,mri_esm2_0_最低溫_ssp126 float,nor esm2_lm_平均溫_ssp126 float,access_cm2_最高溫_ssp126 float,mri_esm2_0_最高溫_ssp126 float,gfdl_esm4_平均溫_ssp126 float,nesm3_平均溫_ssp126 float,iitm_esm_平均溫_ssp126 float,gfdl_esm4_最高溫_ssp126 float,kiost_esm_最低溫_ssp126 float,mpi_esm1_2_lr_平均溫_ssp126 float,fg oals_g3_降雨量_ssp126 float,ec_earth3_veg_lr_平均溫_ssp126 float,access_cm2_最低溫_ssp126 float,mpi_esm1_2_hr_最低溫_ssp126 float,nor esm2_lm_降雨量_ssp126 float,mpi_esm1_2_hr_平均溫_ssp126 float,ipsl_cm6a_lr_最高溫_ssp126 float,nesm3_最低溫_ssp126 float,fg oals_g3_最低溫_ssp126 float,gfdl_esm4_最低溫_ssp126 float,nor esm2_mm_最低溫_ssp126 float,canesm5_最高溫_ssp126 float,access_esm1_5_最低溫_ssp126 float,bcc_csm2_mr_最低溫_ssp126 float,access_esm1_5_降雨量_ssp126 float,nesm3_降雨量_ssp126 float,nor esm2_mm_降雨量_ssp126 float,mpi_esm1_2_lr_最低溫_ssp126 float,bcc_csm2_mr_平均溫_ssp126 float,inm_cm4_8_最高溫_ssp126 float,ec_earth3_veg_平均溫_ssp126 float,cmcc_esm2_平均溫_ssp126 float,tai esm1_平均溫_ssp126 float,kace_1_0_g_最低溫_ssp126 float,awi_cm_1_1_mr_最高溫_ssp126 float,nor esm2_lm_最高溫_ssp126 float,kace_1_0_g_平均溫_ssp126 float,kiost_esm_降雨量_ssp126 float,miroc6_最低溫_ssp126 float,inm_cm5_0_最低溫_ssp126 float,miroc6_最高溫_ssp126 float,canesm5_降雨量_ssp126 float,mpi_esm1_2_lr_降雨量_ssp126 float,bcc_csm2_mr_降雨量_ssp126 float,ec_earth3_最低溫_ssp126 float,miroc6_平均溫_ssp126 float,inm_cm4_8_降雨量_ssp126 float,ipsl_cm5a2_inca_降雨量_ssp126 float,kiost_esm_平均溫_ssp126 float,ec_earth3_veg_lr_最高溫_ssp126 float,iitm_esm_最低溫_ssp126 float,ec_earth3_veg_lr_最低溫_ssp126 float,fg oals_g3_平均溫_ssp126 float,awi_cm_1_1_mr_平均溫_ssp126 float,mri_esm2_0_平均溫_ssp126 float,mpi_esm1_2_lr_最高溫_ssp126 float,awi_cm_1_1_mr_降雨量_ssp126 float,inm_cm5_0_降雨量_ssp126 float,access_cm2_降雨量_ssp126 float,ec_earth3_veg_最低溫_ssp126 float,canesm5_最低溫_ssp126 float,kiost_esm_最高溫_ssp126 float,access_cm2_平均溫_ssp126 float,ec_earth3_veg_降雨量_ssp126 float,cmcc_esm2_最高溫_ssp126 float,cesm2_waccm_降雨量_ssp126 float,iitm_esm_最高溫_ssp126 float,mpi_esm1_2_hr_最高溫_ssp126 float,mri_esm2_0_降雨量_ssp126 float,ec_earth3_平均溫_ssp126 float,ipsl_cm6a_lr_最低溫_ssp126 float,nesm3_最高溫_ssp126 float,nor esm2_mm_平均溫_ssp126 float,ec_earth3_降雨量_ssp126 float,inm_cm4_8_平均溫_ssp126 float,kace_1_0_g_降雨量_ssp126 float,cmcc_cm2_sr5_降雨量_ssp126 float,cmcc_esm2_最低溫_ssp126 float)\n",
    "'''\n",
    "\n",
    "# 執行建立表格的指令\n",
    "cursor.execute(create_table_query)\n",
    "conn.commit()\n",
    "\n",
    "# 關閉資料庫連接\n",
    "cursor.close()\n",
    "conn.close()"
   ]
  }
 ],
 "metadata": {
  "kernelspec": {
   "display_name": "Python 3",
   "language": "python",
   "name": "python3"
  },
  "language_info": {
   "codemirror_mode": {
    "name": "ipython",
    "version": 3
   },
   "file_extension": ".py",
   "mimetype": "text/x-python",
   "name": "python",
   "nbconvert_exporter": "python",
   "pygments_lexer": "ipython3",
   "version": "3.10.9"
  },
  "orig_nbformat": 4
 },
 "nbformat": 4,
 "nbformat_minor": 2
}
