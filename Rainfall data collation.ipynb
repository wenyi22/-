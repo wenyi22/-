{
 "cells": [
  {
   "cell_type": "code",
   "execution_count": 10,
   "metadata": {},
   "outputs": [],
   "source": [
    "import pandas as pd\n",
    "import os\n",
    "\n",
    "# Specify the directory you want to use\n",
    "directory = r\"C:\\Users\\rex\\Desktop\\水位預測\\1\\彰雲橋\"\n",
    "\n",
    "combined_data = pd.DataFrame()\n",
    "\n",
    "# Loop through all .csv files in the directory\n",
    "for filename in os.listdir(directory):\n",
    "    if filename.endswith(\".csv\"):\n",
    "        filepath = os.path.join(directory, filename)\n",
    "        data = pd.read_csv(filepath)\n",
    "        \n",
    "        # Convert datetime to datetime format and split it into Date and Time\n",
    "        data['datetime'] = pd.to_datetime(data['datetime'])\n",
    "        data['Date'] = data['datetime'].dt.date\n",
    "        data['Time'] = data['datetime'].dt.time\n",
    "        data = data.drop(columns=['datetime'])\n",
    "        \n",
    "        # Append the data to the combined_data dataframe\n",
    "        combined_data = pd.concat([combined_data, data])\n",
    "\n",
    "# Create a complete datetime range\n",
    "complete_datetime_range = pd.date_range(start=combined_data['Date'].min(), end=combined_data['Date'].max(), freq='H')\n",
    "\n",
    "# Create a complete dataframe with all datetimes\n",
    "complete_data = pd.DataFrame()\n",
    "complete_data['datetime'] = complete_datetime_range\n",
    "complete_data['Date'] = complete_data['datetime'].dt.date\n",
    "complete_data['Time'] = complete_data['datetime'].dt.time\n",
    "\n",
    "# Merge the original data with the complete data\n",
    "complete_data = pd.merge(complete_data, combined_data, on=['Date', 'Time'], how='left')\n",
    "\n",
    "# If value is NaN after the merge, it means it was a missing datetime, keep it as NaN\n",
    "complete_data['19335 Rainfall'] = complete_data['19335 Rainfall']\n",
    "\n",
    "# Remove the temporary datetime column\n",
    "complete_data = complete_data.drop(columns=['datetime'])\n",
    "\n",
    "# Write the result to a .csv file\n",
    "complete_data.to_csv(r\"C:\\Users\\rex\\Desktop\\水位預測\\1\\彰雲橋\\output.csv\", index=False)\n"
   ]
  },
  {
   "cell_type": "code",
   "execution_count": 8,
   "metadata": {},
   "outputs": [
    {
     "name": "stdout",
     "output_type": "stream",
     "text": [
      "Index(['datetime', '19774 Rainfall'], dtype='object')\n"
     ]
    }
   ],
   "source": [
    "import pandas as pd\n",
    "\n",
    "# Specify the file you want to use\n",
    "file = r\"C:\\Users\\rex\\Desktop\\水位預測\\1\\名竹大橋\\19774_2020.csv\"\n",
    "\n",
    "# Read the CSV file\n",
    "data = pd.read_csv(file)\n",
    "\n",
    "# Print column names\n",
    "print(data.columns)\n"
   ]
  }
 ],
 "metadata": {
  "kernelspec": {
   "display_name": "Python 3",
   "language": "python",
   "name": "python3"
  },
  "language_info": {
   "codemirror_mode": {
    "name": "ipython",
    "version": 3
   },
   "file_extension": ".py",
   "mimetype": "text/x-python",
   "name": "python",
   "nbconvert_exporter": "python",
   "pygments_lexer": "ipython3",
   "version": "3.10.9"
  },
  "orig_nbformat": 4
 },
 "nbformat": 4,
 "nbformat_minor": 2
}
